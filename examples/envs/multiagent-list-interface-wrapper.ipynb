{
 "cells": [
  {
   "cell_type": "markdown",
   "id": "5134ab7e",
   "metadata": {},
   "source": [
    "## Test the multiagent list interface env wrapper"
   ]
  },
  {
   "cell_type": "code",
   "execution_count": 1,
   "id": "f86eaec0",
   "metadata": {},
   "outputs": [],
   "source": [
    "from gridworld.multiagent_env import MultiAgentEnv\n",
    "from gridworld.multiagent_list_interface_env import MultiAgentListInterfaceEnv\n",
    "from gridworld.scenarios.buildings import make_env_config"
   ]
  },
  {
   "cell_type": "code",
   "execution_count": 2,
   "id": "be1bd115",
   "metadata": {},
   "outputs": [],
   "source": [
    "# Example setup for the multi-agent system\n",
    "env_config = make_env_config(\n",
    "    building_config={\n",
    "        \"reward_structure\": {\"target\": \"min_voltage\", \"alpha\": 0.5}\n",
    "    },\n",
    "    pv_config={\n",
    "        \"profile_csv\": \"off-peak.csv\",\n",
    "        \"scaling_factor\": 40.\n",
    "    },\n",
    "    storage_config={\n",
    "        \"max_power\": 20.,\n",
    "        \"storage_range\": (3., 250.)\n",
    "    },\n",
    "    system_load_rescale_factor=0.6,\n",
    "    num_buildings=3  # Duplicate the building by 3.\n",
    ")\n",
    "\n",
    "\n",
    "env = MultiAgentListInterfaceEnv(MultiAgentEnv,  # Env to be wrapped.\n",
    "                                 env_config  # Env configuration.\n",
    "                                )"
   ]
  },
  {
   "cell_type": "markdown",
   "id": "19f24bb8",
   "metadata": {},
   "source": [
    "### Test 1: conversion of observations."
   ]
  },
  {
   "cell_type": "code",
   "execution_count": 3,
   "id": "657fc85e",
   "metadata": {},
   "outputs": [
    {
     "name": "stdout",
     "output_type": "stream",
     "text": [
      "******** Test 1 **********\n",
      "{'building-0': {'building': array([-0.10000747, -0.10000292, -0.10001711, -0.10001942, -0.10000452,\n",
      "       -0.49999253, -0.49999708, -0.49998289, -0.49998058, -0.49999548,\n",
      "       -0.2       ,  0.2       , -0.14136905, -1.        , -1.        ]), 'pv': array([-1.]), 'storage': array([-0.80531445])}, 'building-1': {'building': array([-0.10000747, -0.10000292, -0.10001711, -0.10001942, -0.10000452,\n",
      "       -0.49999253, -0.49999708, -0.49998289, -0.49998058, -0.49999548,\n",
      "       -0.2       ,  0.2       , -0.14136905, -1.        , -1.        ]), 'pv': array([-1.]), 'storage': array([-0.78087018])}, 'building-2': {'building': array([-0.10000747, -0.10000292, -0.10001711, -0.10001942, -0.10000452,\n",
      "       -0.49999253, -0.49999708, -0.49998289, -0.49998058, -0.49999548,\n",
      "       -0.2       ,  0.2       , -0.14136905, -1.        , -1.        ]), 'pv': array([-1.]), 'storage': array([-0.77976333])}}\n",
      "\n",
      "[array([-0.10000747, -0.10000292, -0.10001711, -0.10001942, -0.10000452,\n",
      "       -0.49999253, -0.49999708, -0.49998289, -0.49998058, -0.49999548,\n",
      "       -0.2       ,  0.2       , -0.14136905, -1.        , -1.        ,\n",
      "       -1.        , -0.80531445]), array([-0.10000747, -0.10000292, -0.10001711, -0.10001942, -0.10000452,\n",
      "       -0.49999253, -0.49999708, -0.49998289, -0.49998058, -0.49999548,\n",
      "       -0.2       ,  0.2       , -0.14136905, -1.        , -1.        ,\n",
      "       -1.        , -0.78087018]), array([-0.10000747, -0.10000292, -0.10001711, -0.10001942, -0.10000452,\n",
      "       -0.49999253, -0.49999708, -0.49998289, -0.49998058, -0.49999548,\n",
      "       -0.2       ,  0.2       , -0.14136905, -1.        , -1.        ,\n",
      "       -1.        , -0.77976333])]\n"
     ]
    }
   ],
   "source": [
    "print(\"******** Test 1 **********\")\n",
    "obs_dict = env.ma_env.reset()\n",
    "obs_list = env.convert_to_list_obs(obs_dict)\n",
    "\n",
    "print(obs_dict)\n",
    "print()\n",
    "print(obs_list)"
   ]
  },
  {
   "cell_type": "markdown",
   "id": "f648f250",
   "metadata": {},
   "source": [
    "### Test 2: conversion of action"
   ]
  },
  {
   "cell_type": "code",
   "execution_count": 4,
   "id": "bbb5dc4f",
   "metadata": {},
   "outputs": [
    {
     "name": "stdout",
     "output_type": "stream",
     "text": [
      "{'building-0': {'building': array([-0.94266657, -0.45980667,  0.28139901,  0.24295146,  0.64740012,\n",
      "        0.56449123]), 'pv': array([0.43673467]), 'storage': array([0.83335442])}, 'building-1': {'building': array([ 0.50442874,  0.89679783, -0.46924201,  0.93221037,  0.65015762,\n",
      "       -0.07482716]), 'pv': array([-0.34621505]), 'storage': array([0.44336321])}, 'building-2': {'building': array([ 0.87420688,  0.62722813,  0.71989819,  0.02140273, -0.33950488,\n",
      "        0.5507885 ]), 'pv': array([-0.49015445]), 'storage': array([0.14794532])}}\n",
      "\n",
      "[array([-0.94266657, -0.45980667,  0.28139901,  0.24295146,  0.64740012,\n",
      "        0.56449123,  0.43673467,  0.83335442]), array([ 0.50442874,  0.89679783, -0.46924201,  0.93221037,  0.65015762,\n",
      "       -0.07482716, -0.34621505,  0.44336321]), array([ 0.87420688,  0.62722813,  0.71989819,  0.02140273, -0.33950488,\n",
      "        0.5507885 , -0.49015445,  0.14794532])]\n"
     ]
    }
   ],
   "source": [
    "acts_list = [x.sample() for x in env.action_space]\n",
    "acts_dict = env.convert_from_list_act(acts_list)\n",
    "\n",
    "print(acts_dict)\n",
    "print()\n",
    "print(acts_list)"
   ]
  },
  {
   "cell_type": "markdown",
   "id": "21f50597",
   "metadata": {},
   "source": [
    "### Test 3: Simulate a whole episode with random action."
   ]
  },
  {
   "cell_type": "code",
   "execution_count": 5,
   "id": "8be1bfef",
   "metadata": {},
   "outputs": [
    {
     "name": "stdout",
     "output_type": "stream",
     "text": [
      "[array([-0.10000536, -0.10000237, -0.10001218, -0.10001461, -0.10000304,\n",
      "       -0.49999464, -0.49999763, -0.49998782, -0.49998539, -0.49999696,\n",
      "       -0.2       ,  0.2       , -0.14136905, -1.        , -1.        ,\n",
      "       -1.        , -0.76584422]), array([-0.10000536, -0.10000237, -0.10001218, -0.10001461, -0.10000304,\n",
      "       -0.49999464, -0.49999763, -0.49998782, -0.49998539, -0.49999696,\n",
      "       -0.2       ,  0.2       , -0.14136905, -1.        , -1.        ,\n",
      "       -1.        , -0.76788919]), array([-0.10000536, -0.10000237, -0.10001218, -0.10001461, -0.10000304,\n",
      "       -0.49999464, -0.49999763, -0.49998782, -0.49998539, -0.49999696,\n",
      "       -0.2       ,  0.2       , -0.14136905, -1.        , -1.        ,\n",
      "       -1.        , -0.76155291])]\n",
      "287\n"
     ]
    }
   ],
   "source": [
    "print(env.reset())\n",
    "done_all = False\n",
    "cnt = 0\n",
    "\n",
    "while not done_all:\n",
    "    acts = [x.sample() for x in env.action_space]\n",
    "    new_state, reward, done, info = env.step(acts)\n",
    "    done_all = all(done)\n",
    "    cnt += 1\n",
    "\n",
    "print(cnt)"
   ]
  },
  {
   "cell_type": "code",
   "execution_count": null,
   "id": "98c176a3",
   "metadata": {},
   "outputs": [],
   "source": []
  }
 ],
 "metadata": {
  "kernelspec": {
   "display_name": "Python 3 (ipykernel)",
   "language": "python",
   "name": "python3"
  },
  "language_info": {
   "codemirror_mode": {
    "name": "ipython",
    "version": 3
   },
   "file_extension": ".py",
   "mimetype": "text/x-python",
   "name": "python",
   "nbconvert_exporter": "python",
   "pygments_lexer": "ipython3",
   "version": "3.10.11"
  }
 },
 "nbformat": 4,
 "nbformat_minor": 5
}
